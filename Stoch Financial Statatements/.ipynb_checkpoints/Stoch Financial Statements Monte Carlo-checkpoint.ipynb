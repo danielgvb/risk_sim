{
 "cells": [
  {
   "cell_type": "markdown",
   "id": "studied-engineer",
   "metadata": {},
   "source": [
    "# Monte Carlo Simulation for stochastich financial statements"
   ]
  },
  {
   "cell_type": "code",
   "execution_count": 1,
   "id": "governing-gregory",
   "metadata": {},
   "outputs": [],
   "source": [
    "#import packages\n",
    "from math import log, sqrt, pi, exp\n",
    "from scipy.stats import norm\n",
    "from datetime import datetime, date\n",
    "import numpy as np\n",
    "import pandas as pd"
   ]
  },
  {
   "cell_type": "code",
   "execution_count": 2,
   "id": "billion-savannah",
   "metadata": {},
   "outputs": [
    {
     "data": {
      "text/html": [
       "<div>\n",
       "<style scoped>\n",
       "    .dataframe tbody tr th:only-of-type {\n",
       "        vertical-align: middle;\n",
       "    }\n",
       "\n",
       "    .dataframe tbody tr th {\n",
       "        vertical-align: top;\n",
       "    }\n",
       "\n",
       "    .dataframe thead th {\n",
       "        text-align: right;\n",
       "    }\n",
       "</style>\n",
       "<table border=\"1\" class=\"dataframe\">\n",
       "  <thead>\n",
       "    <tr style=\"text-align: right;\">\n",
       "      <th></th>\n",
       "      <th>date</th>\n",
       "      <th>close_date_6m</th>\n",
       "      <th>close_date_1y</th>\n",
       "      <th>time_6m</th>\n",
       "      <th>time_1y</th>\n",
       "      <th>coffee_cop</th>\n",
       "      <th>implied_vol_6m</th>\n",
       "      <th>implied_vol_1y</th>\n",
       "      <th>r</th>\n",
       "      <th>default_rate</th>\n",
       "    </tr>\n",
       "  </thead>\n",
       "  <tbody>\n",
       "    <tr>\n",
       "      <th>0</th>\n",
       "      <td>2017-01-01</td>\n",
       "      <td>2017-07-18</td>\n",
       "      <td>2017-12-17</td>\n",
       "      <td>0.542466</td>\n",
       "      <td>0.958904</td>\n",
       "      <td>843952.256261</td>\n",
       "      <td>0.334027</td>\n",
       "      <td>0.285752</td>\n",
       "      <td>0.07204</td>\n",
       "      <td>0.16</td>\n",
       "    </tr>\n",
       "    <tr>\n",
       "      <th>1</th>\n",
       "      <td>2017-01-02</td>\n",
       "      <td>2017-07-18</td>\n",
       "      <td>2017-12-17</td>\n",
       "      <td>0.539726</td>\n",
       "      <td>0.956164</td>\n",
       "      <td>843952.256261</td>\n",
       "      <td>0.334027</td>\n",
       "      <td>0.285752</td>\n",
       "      <td>0.07204</td>\n",
       "      <td>0.16</td>\n",
       "    </tr>\n",
       "    <tr>\n",
       "      <th>2</th>\n",
       "      <td>2017-01-03</td>\n",
       "      <td>2017-07-18</td>\n",
       "      <td>2017-12-17</td>\n",
       "      <td>0.536986</td>\n",
       "      <td>0.953425</td>\n",
       "      <td>846107.552063</td>\n",
       "      <td>0.327560</td>\n",
       "      <td>0.279651</td>\n",
       "      <td>0.07204</td>\n",
       "      <td>0.16</td>\n",
       "    </tr>\n",
       "    <tr>\n",
       "      <th>3</th>\n",
       "      <td>2017-01-04</td>\n",
       "      <td>2017-07-18</td>\n",
       "      <td>2017-12-17</td>\n",
       "      <td>0.534247</td>\n",
       "      <td>0.950685</td>\n",
       "      <td>867484.574900</td>\n",
       "      <td>0.334248</td>\n",
       "      <td>0.285960</td>\n",
       "      <td>0.07129</td>\n",
       "      <td>0.16</td>\n",
       "    </tr>\n",
       "    <tr>\n",
       "      <th>4</th>\n",
       "      <td>2017-01-05</td>\n",
       "      <td>2017-07-18</td>\n",
       "      <td>2017-12-17</td>\n",
       "      <td>0.531507</td>\n",
       "      <td>0.947945</td>\n",
       "      <td>874782.510283</td>\n",
       "      <td>0.340986</td>\n",
       "      <td>0.292317</td>\n",
       "      <td>0.07124</td>\n",
       "      <td>0.16</td>\n",
       "    </tr>\n",
       "  </tbody>\n",
       "</table>\n",
       "</div>"
      ],
      "text/plain": [
       "        date close_date_6m close_date_1y   time_6m   time_1y     coffee_cop  \\\n",
       "0 2017-01-01    2017-07-18    2017-12-17  0.542466  0.958904  843952.256261   \n",
       "1 2017-01-02    2017-07-18    2017-12-17  0.539726  0.956164  843952.256261   \n",
       "2 2017-01-03    2017-07-18    2017-12-17  0.536986  0.953425  846107.552063   \n",
       "3 2017-01-04    2017-07-18    2017-12-17  0.534247  0.950685  867484.574900   \n",
       "4 2017-01-05    2017-07-18    2017-12-17  0.531507  0.947945  874782.510283   \n",
       "\n",
       "   implied_vol_6m  implied_vol_1y        r  default_rate  \n",
       "0        0.334027        0.285752  0.07204          0.16  \n",
       "1        0.334027        0.285752  0.07204          0.16  \n",
       "2        0.327560        0.279651  0.07204          0.16  \n",
       "3        0.334248        0.285960  0.07129          0.16  \n",
       "4        0.340986        0.292317  0.07124          0.16  "
      ]
     },
     "execution_count": 2,
     "metadata": {},
     "output_type": "execute_result"
    }
   ],
   "source": [
    "#import data\n",
    "df = pd.read_excel(\"bd_coffee.xlsx\")\n",
    "df.head()"
   ]
  },
  {
   "cell_type": "markdown",
   "id": "nonprofit-ticket",
   "metadata": {},
   "source": [
    "## Series Fitting"
   ]
  },
  {
   "cell_type": "code",
   "execution_count": 3,
   "id": "novel-massachusetts",
   "metadata": {},
   "outputs": [
    {
     "data": {
      "text/plain": [
       "0       8.439523e+05\n",
       "1       8.439523e+05\n",
       "2       8.461076e+05\n",
       "3       8.674846e+05\n",
       "4       8.747825e+05\n",
       "            ...     \n",
       "1821    1.861471e+06\n",
       "1822    1.847391e+06\n",
       "1823    1.881263e+06\n",
       "1824    1.889271e+06\n",
       "1825    1.846430e+06\n",
       "Name: coffee_cop, Length: 1826, dtype: float64"
      ]
     },
     "execution_count": 3,
     "metadata": {},
     "output_type": "execute_result"
    }
   ],
   "source": [
    "coffee_hist = df[\"coffee_cop\"].dropna()\n",
    "coffee_hist"
   ]
  },
  {
   "cell_type": "code",
   "execution_count": 4,
   "id": "coral-darwin",
   "metadata": {},
   "outputs": [
    {
     "data": {
      "text/plain": [
       "0       0.07204\n",
       "1       0.07204\n",
       "2       0.07204\n",
       "3       0.07129\n",
       "4       0.07124\n",
       "         ...   \n",
       "1821    0.03398\n",
       "1822    0.03440\n",
       "1823    0.03467\n",
       "1824    0.03511\n",
       "1825    0.03511\n",
       "Name: r, Length: 1826, dtype: float64"
      ]
     },
     "execution_count": 4,
     "metadata": {},
     "output_type": "execute_result"
    }
   ],
   "source": [
    "r = df[\"r\"].dropna()\n",
    "r"
   ]
  },
  {
   "cell_type": "code",
   "execution_count": 5,
   "id": "african-blood",
   "metadata": {},
   "outputs": [
    {
     "data": {
      "text/plain": [
       "0       0.334027\n",
       "1       0.334027\n",
       "2       0.327560\n",
       "3       0.334248\n",
       "4       0.340986\n",
       "          ...   \n",
       "1821    0.412114\n",
       "1822    0.402495\n",
       "1823    0.409220\n",
       "1824    0.414452\n",
       "1825    0.413820\n",
       "Name: implied_vol_6m, Length: 1826, dtype: float64"
      ]
     },
     "execution_count": 5,
     "metadata": {},
     "output_type": "execute_result"
    }
   ],
   "source": [
    "vol_6m = df[\"implied_vol_6m\"].dropna()\n",
    "vol_6m"
   ]
  },
  {
   "cell_type": "markdown",
   "id": "bright-framework",
   "metadata": {},
   "source": [
    "### Coffee"
   ]
  },
  {
   "cell_type": "code",
   "execution_count": null,
   "id": "little-release",
   "metadata": {},
   "outputs": [],
   "source": [
    "%%time\n",
    "from fitter import Fitter\n",
    "f1 = Fitter(coffee_hist)\n",
    "f1.fit()\n",
    "# may take some time since by default, all distributions are tried\n",
    "# but you call manually provide a smaller set of distributions\n",
    "f1.summary()"
   ]
  },
  {
   "cell_type": "markdown",
   "id": "palestinian-expression",
   "metadata": {},
   "source": [
    "### Interest rate"
   ]
  },
  {
   "cell_type": "code",
   "execution_count": null,
   "id": "insured-blues",
   "metadata": {},
   "outputs": [],
   "source": [
    "%%time\n",
    "from fitter import Fitter\n",
    "f2 = Fitter(r)\n",
    "f2.fit()\n",
    "# may take some time since by default, all distributions are tried\n",
    "# but you call manually provide a smaller set of distributions\n",
    "f2.summary()"
   ]
  },
  {
   "cell_type": "markdown",
   "id": "thick-cement",
   "metadata": {},
   "source": [
    "### Implied Volatility"
   ]
  },
  {
   "cell_type": "code",
   "execution_count": null,
   "id": "spiritual-distance",
   "metadata": {},
   "outputs": [],
   "source": [
    "%%time\n",
    "from fitter import Fitter\n",
    "f3 = Fitter(vol_6m)\n",
    "f3.fit()\n",
    "# may take some time since by default, all distributions are tried\n",
    "# but you call manually provide a smaller set of distributions\n",
    "f3.summary()"
   ]
  },
  {
   "cell_type": "code",
   "execution_count": null,
   "id": "outstanding-express",
   "metadata": {},
   "outputs": [],
   "source": [
    "%%time\n",
    "from fitter import Fitter\n",
    "f4 = Fitter(vol_1y)\n",
    "f4.fit()\n",
    "# may take some time since by default, all distributions are tried\n",
    "# but you call manually provide a smaller set of distributions\n",
    "f4.summary()"
   ]
  },
  {
   "cell_type": "markdown",
   "id": "vulnerable-design",
   "metadata": {},
   "source": [
    "## Series Simulation Sample"
   ]
  },
  {
   "cell_type": "code",
   "execution_count": 7,
   "id": "cordless-slide",
   "metadata": {},
   "outputs": [
    {
     "data": {
      "text/html": [
       "<div>\n",
       "<style scoped>\n",
       "    .dataframe tbody tr th:only-of-type {\n",
       "        vertical-align: middle;\n",
       "    }\n",
       "\n",
       "    .dataframe tbody tr th {\n",
       "        vertical-align: top;\n",
       "    }\n",
       "\n",
       "    .dataframe thead th {\n",
       "        text-align: right;\n",
       "    }\n",
       "</style>\n",
       "<table border=\"1\" class=\"dataframe\">\n",
       "  <thead>\n",
       "    <tr style=\"text-align: right;\">\n",
       "      <th></th>\n",
       "      <th>close_date_6m</th>\n",
       "      <th>close_date_1y</th>\n",
       "      <th>time_6m</th>\n",
       "      <th>time_1y</th>\n",
       "      <th>coffee_cop</th>\n",
       "      <th>implied_vol_6m</th>\n",
       "      <th>implied_vol_1y</th>\n",
       "      <th>r</th>\n",
       "      <th>default_rate</th>\n",
       "      <th>coffee_pct</th>\n",
       "    </tr>\n",
       "    <tr>\n",
       "      <th>date</th>\n",
       "      <th></th>\n",
       "      <th></th>\n",
       "      <th></th>\n",
       "      <th></th>\n",
       "      <th></th>\n",
       "      <th></th>\n",
       "      <th></th>\n",
       "      <th></th>\n",
       "      <th></th>\n",
       "      <th></th>\n",
       "    </tr>\n",
       "  </thead>\n",
       "  <tbody>\n",
       "    <tr>\n",
       "      <th>2017-01-01</th>\n",
       "      <td>2017-07-18</td>\n",
       "      <td>2017-12-17</td>\n",
       "      <td>0.542466</td>\n",
       "      <td>0.958904</td>\n",
       "      <td>8.439523e+05</td>\n",
       "      <td>0.334027</td>\n",
       "      <td>0.285752</td>\n",
       "      <td>0.07204</td>\n",
       "      <td>0.16</td>\n",
       "      <td>NaN</td>\n",
       "    </tr>\n",
       "    <tr>\n",
       "      <th>2017-01-02</th>\n",
       "      <td>2017-07-18</td>\n",
       "      <td>2017-12-17</td>\n",
       "      <td>0.539726</td>\n",
       "      <td>0.956164</td>\n",
       "      <td>8.439523e+05</td>\n",
       "      <td>0.334027</td>\n",
       "      <td>0.285752</td>\n",
       "      <td>0.07204</td>\n",
       "      <td>0.16</td>\n",
       "      <td>0.000000</td>\n",
       "    </tr>\n",
       "    <tr>\n",
       "      <th>2017-01-03</th>\n",
       "      <td>2017-07-18</td>\n",
       "      <td>2017-12-17</td>\n",
       "      <td>0.536986</td>\n",
       "      <td>0.953425</td>\n",
       "      <td>8.461076e+05</td>\n",
       "      <td>0.327560</td>\n",
       "      <td>0.279651</td>\n",
       "      <td>0.07204</td>\n",
       "      <td>0.16</td>\n",
       "      <td>0.002554</td>\n",
       "    </tr>\n",
       "    <tr>\n",
       "      <th>2017-01-04</th>\n",
       "      <td>2017-07-18</td>\n",
       "      <td>2017-12-17</td>\n",
       "      <td>0.534247</td>\n",
       "      <td>0.950685</td>\n",
       "      <td>8.674846e+05</td>\n",
       "      <td>0.334248</td>\n",
       "      <td>0.285960</td>\n",
       "      <td>0.07129</td>\n",
       "      <td>0.16</td>\n",
       "      <td>0.025265</td>\n",
       "    </tr>\n",
       "    <tr>\n",
       "      <th>2017-01-05</th>\n",
       "      <td>2017-07-18</td>\n",
       "      <td>2017-12-17</td>\n",
       "      <td>0.531507</td>\n",
       "      <td>0.947945</td>\n",
       "      <td>8.747825e+05</td>\n",
       "      <td>0.340986</td>\n",
       "      <td>0.292317</td>\n",
       "      <td>0.07124</td>\n",
       "      <td>0.16</td>\n",
       "      <td>0.008413</td>\n",
       "    </tr>\n",
       "    <tr>\n",
       "      <th>...</th>\n",
       "      <td>...</td>\n",
       "      <td>...</td>\n",
       "      <td>...</td>\n",
       "      <td>...</td>\n",
       "      <td>...</td>\n",
       "      <td>...</td>\n",
       "      <td>...</td>\n",
       "      <td>...</td>\n",
       "      <td>...</td>\n",
       "      <td>...</td>\n",
       "    </tr>\n",
       "    <tr>\n",
       "      <th>2021-12-27</th>\n",
       "      <td>2022-07-19</td>\n",
       "      <td>2022-12-19</td>\n",
       "      <td>0.558904</td>\n",
       "      <td>0.978082</td>\n",
       "      <td>1.861471e+06</td>\n",
       "      <td>0.412114</td>\n",
       "      <td>0.359418</td>\n",
       "      <td>0.03398</td>\n",
       "      <td>0.54</td>\n",
       "      <td>-0.018184</td>\n",
       "    </tr>\n",
       "    <tr>\n",
       "      <th>2021-12-28</th>\n",
       "      <td>2022-07-19</td>\n",
       "      <td>2022-12-19</td>\n",
       "      <td>0.556164</td>\n",
       "      <td>0.975342</td>\n",
       "      <td>1.847391e+06</td>\n",
       "      <td>0.402495</td>\n",
       "      <td>0.350343</td>\n",
       "      <td>0.03440</td>\n",
       "      <td>0.54</td>\n",
       "      <td>-0.007564</td>\n",
       "    </tr>\n",
       "    <tr>\n",
       "      <th>2021-12-29</th>\n",
       "      <td>2022-07-19</td>\n",
       "      <td>2022-12-19</td>\n",
       "      <td>0.553425</td>\n",
       "      <td>0.972603</td>\n",
       "      <td>1.881263e+06</td>\n",
       "      <td>0.409220</td>\n",
       "      <td>0.356688</td>\n",
       "      <td>0.03467</td>\n",
       "      <td>0.54</td>\n",
       "      <td>0.018335</td>\n",
       "    </tr>\n",
       "    <tr>\n",
       "      <th>2021-12-30</th>\n",
       "      <td>2022-07-19</td>\n",
       "      <td>2022-12-19</td>\n",
       "      <td>0.550685</td>\n",
       "      <td>0.969863</td>\n",
       "      <td>1.889271e+06</td>\n",
       "      <td>0.414452</td>\n",
       "      <td>0.361624</td>\n",
       "      <td>0.03511</td>\n",
       "      <td>0.54</td>\n",
       "      <td>0.004257</td>\n",
       "    </tr>\n",
       "    <tr>\n",
       "      <th>2021-12-31</th>\n",
       "      <td>2022-07-19</td>\n",
       "      <td>2022-12-19</td>\n",
       "      <td>0.547945</td>\n",
       "      <td>0.967123</td>\n",
       "      <td>1.846430e+06</td>\n",
       "      <td>0.413820</td>\n",
       "      <td>0.361027</td>\n",
       "      <td>0.03511</td>\n",
       "      <td>0.54</td>\n",
       "      <td>-0.022676</td>\n",
       "    </tr>\n",
       "  </tbody>\n",
       "</table>\n",
       "<p>1826 rows × 10 columns</p>\n",
       "</div>"
      ],
      "text/plain": [
       "           close_date_6m close_date_1y   time_6m   time_1y    coffee_cop  \\\n",
       "date                                                                       \n",
       "2017-01-01    2017-07-18    2017-12-17  0.542466  0.958904  8.439523e+05   \n",
       "2017-01-02    2017-07-18    2017-12-17  0.539726  0.956164  8.439523e+05   \n",
       "2017-01-03    2017-07-18    2017-12-17  0.536986  0.953425  8.461076e+05   \n",
       "2017-01-04    2017-07-18    2017-12-17  0.534247  0.950685  8.674846e+05   \n",
       "2017-01-05    2017-07-18    2017-12-17  0.531507  0.947945  8.747825e+05   \n",
       "...                  ...           ...       ...       ...           ...   \n",
       "2021-12-27    2022-07-19    2022-12-19  0.558904  0.978082  1.861471e+06   \n",
       "2021-12-28    2022-07-19    2022-12-19  0.556164  0.975342  1.847391e+06   \n",
       "2021-12-29    2022-07-19    2022-12-19  0.553425  0.972603  1.881263e+06   \n",
       "2021-12-30    2022-07-19    2022-12-19  0.550685  0.969863  1.889271e+06   \n",
       "2021-12-31    2022-07-19    2022-12-19  0.547945  0.967123  1.846430e+06   \n",
       "\n",
       "            implied_vol_6m  implied_vol_1y        r  default_rate  coffee_pct  \n",
       "date                                                                           \n",
       "2017-01-01        0.334027        0.285752  0.07204          0.16         NaN  \n",
       "2017-01-02        0.334027        0.285752  0.07204          0.16    0.000000  \n",
       "2017-01-03        0.327560        0.279651  0.07204          0.16    0.002554  \n",
       "2017-01-04        0.334248        0.285960  0.07129          0.16    0.025265  \n",
       "2017-01-05        0.340986        0.292317  0.07124          0.16    0.008413  \n",
       "...                    ...             ...      ...           ...         ...  \n",
       "2021-12-27        0.412114        0.359418  0.03398          0.54   -0.018184  \n",
       "2021-12-28        0.402495        0.350343  0.03440          0.54   -0.007564  \n",
       "2021-12-29        0.409220        0.356688  0.03467          0.54    0.018335  \n",
       "2021-12-30        0.414452        0.361624  0.03511          0.54    0.004257  \n",
       "2021-12-31        0.413820        0.361027  0.03511          0.54   -0.022676  \n",
       "\n",
       "[1826 rows x 10 columns]"
      ]
     },
     "execution_count": 7,
     "metadata": {},
     "output_type": "execute_result"
    }
   ],
   "source": [
    "#calculate returns\n",
    "df_hist = df.dropna().set_index(\"date\")\n",
    "df_hist[\"coffee_pct\"] = df_hist[\"coffee_cop\"].pct_change()"
   ]
  },
  {
   "cell_type": "markdown",
   "id": "historic-collar",
   "metadata": {},
   "source": [
    "### Coffee"
   ]
  },
  {
   "cell_type": "code",
   "execution_count": 72,
   "id": "lined-arnold",
   "metadata": {},
   "outputs": [],
   "source": [
    "import math\n",
    "# Parameter Definitions\n",
    "\n",
    "# So    :   initial stock price\n",
    "# dt    :   time increment -> a day in our case\n",
    "# T     :   length of the prediction time horizon(how many time points to predict, same unit with dt(days))\n",
    "# N     :   number of time points in the prediction time horizon -> T/dt\n",
    "# t     :   array for time points in the prediction time horizon [1, 2, 3, .. , N]\n",
    "# mu    :   mean of historical daily returns\n",
    "# sigma :   standard deviation of historical daily returns\n",
    "# b     :   array for brownian increments\n",
    "# W     :   array for brownian path\n",
    "\n",
    "S0 = df.at[0, \"coffee_cop\"]\n",
    "sigma = df_hist[\"coffee_pct\"].std() * sqrt(252)\n",
    "mu = df_hist[\"coffee_pct\"].mean()\n",
    "dt = 1/365\n",
    "\n",
    "def gbm(s0, sigma, mu, dt, n):\n",
    "    time = 0\n",
    "    gbmPrice = S0\n",
    "\n",
    "    drift = mu\n",
    "    price_sim = []\n",
    "    for i in range(n):\n",
    "        time = time + dt\n",
    "        drift = mu * dt * gbmPrice\n",
    "        uncertainity = np.random.normal(0) * math.sqrt(dt) * sigma *gbmPrice\n",
    "        change = drift + uncertainity\n",
    "        gbmPrice = gbmPrice + change\n",
    "        price_sim.append(gbmPrice)\n",
    "    return(price_sim)\n"
   ]
  },
  {
   "cell_type": "code",
   "execution_count": 80,
   "id": "shared-essence",
   "metadata": {},
   "outputs": [],
   "source": [
    "price_simulation = gbm(s0, sigma, mu, dt, len(df))"
   ]
  },
  {
   "cell_type": "code",
   "execution_count": 81,
   "id": "approximate-cuisine",
   "metadata": {},
   "outputs": [
    {
     "data": {
      "text/plain": [
       "[<matplotlib.lines.Line2D at 0x1b6cee3edc0>]"
      ]
     },
     "execution_count": 81,
     "metadata": {},
     "output_type": "execute_result"
    },
    {
     "data": {
      "image/png": "[encoded data removed]",
      "text/plain": [
       "<Figure size 432x288 with 1 Axes>"
      ]
     },
     "metadata": {
      "needs_background": "light"
     },
     "output_type": "display_data"
    }
   ],
   "source": [
    "plt.plot(np.array(price_simulation))\n",
    "plt.plot(df[\"coffee_cop\"])"
   ]
  },
  {
   "cell_type": "markdown",
   "id": "german-wheat",
   "metadata": {},
   "source": [
    "### Interest Rate"
   ]
  },
  {
   "cell_type": "markdown",
   "id": "military-modem",
   "metadata": {},
   "source": [
    "Interest Rate Simulation sample: https://sarit-maitra.medium.com/pca-monte-carlo-simulation-for-vasicek-interest-rate-model-9522858cc89d"
   ]
  },
  {
   "cell_type": "markdown",
   "id": "concrete-digit",
   "metadata": {},
   "source": [
    "### Implied Volatility"
   ]
  },
  {
   "cell_type": "code",
   "execution_count": null,
   "id": "statutory-jason",
   "metadata": {},
   "outputs": [],
   "source": []
  },
  {
   "cell_type": "markdown",
   "id": "placed-labor",
   "metadata": {},
   "source": [
    "### Default Rate"
   ]
  },
  {
   "cell_type": "code",
   "execution_count": null,
   "id": "successful-coach",
   "metadata": {},
   "outputs": [],
   "source": []
  },
  {
   "cell_type": "markdown",
   "id": "hundred-scope",
   "metadata": {},
   "source": [
    "# Monte Carlo Simulation"
   ]
  },
  {
   "cell_type": "code",
   "execution_count": null,
   "id": "clear-wichita",
   "metadata": {},
   "outputs": [],
   "source": []
  }
 ],
 "metadata": {
  "kernelspec": {
   "display_name": "Python 3",
   "language": "python",
   "name": "python3"
  },
  "language_info": {
   "codemirror_mode": {
    "name": "ipython",
    "version": 3
   },
   "file_extension": ".py",
   "mimetype": "text/x-python",
   "name": "python",
   "nbconvert_exporter": "python",
   "pygments_lexer": "ipython3",
   "version": "3.8.5"
  }
 },
 "nbformat": 4,
 "nbformat_minor": 5
}
