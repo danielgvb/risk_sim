{
 "cells": [
  {
   "cell_type": "markdown",
   "id": "applicable-fusion",
   "metadata": {},
   "source": [
    "# Monte Carlo Simulation for stochastich financial statements"
   ]
  },
  {
   "cell_type": "code",
   "execution_count": 11,
   "id": "literary-samba",
   "metadata": {},
   "outputs": [],
   "source": [
    "#import packages\n",
    "from math import log, sqrt, pi, exp\n",
    "from scipy.stats import norm\n",
    "from datetime import datetime, date\n",
    "import numpy as np\n",
    "import pandas as pd\n",
    "import matplotlib.pyplot as plt"
   ]
  },
  {
   "cell_type": "code",
   "execution_count": 12,
   "id": "frequent-scott",
   "metadata": {},
   "outputs": [
    {
     "data": {
      "text/html": [
       "<div>\n",
       "<style scoped>\n",
       "    .dataframe tbody tr th:only-of-type {\n",
       "        vertical-align: middle;\n",
       "    }\n",
       "\n",
       "    .dataframe tbody tr th {\n",
       "        vertical-align: top;\n",
       "    }\n",
       "\n",
       "    .dataframe thead th {\n",
       "        text-align: right;\n",
       "    }\n",
       "</style>\n",
       "<table border=\"1\" class=\"dataframe\">\n",
       "  <thead>\n",
       "    <tr style=\"text-align: right;\">\n",
       "      <th></th>\n",
       "      <th>date</th>\n",
       "      <th>close_date_6m</th>\n",
       "      <th>close_date_1y</th>\n",
       "      <th>time_6m</th>\n",
       "      <th>time_1y</th>\n",
       "      <th>coffee_cop</th>\n",
       "      <th>implied_vol_6m</th>\n",
       "      <th>implied_vol_1y</th>\n",
       "      <th>r</th>\n",
       "      <th>default_rate</th>\n",
       "      <th>buy_call_6m</th>\n",
       "      <th>buy_call_1y</th>\n",
       "    </tr>\n",
       "  </thead>\n",
       "  <tbody>\n",
       "    <tr>\n",
       "      <th>0</th>\n",
       "      <td>2017-01-01</td>\n",
       "      <td>2017-07-18</td>\n",
       "      <td>2017-12-17</td>\n",
       "      <td>0.542466</td>\n",
       "      <td>0.958904</td>\n",
       "      <td>843952.256261</td>\n",
       "      <td>0.334027</td>\n",
       "      <td>0.285752</td>\n",
       "      <td>0.07204</td>\n",
       "      <td>0.16</td>\n",
       "      <td>NaN</td>\n",
       "      <td>NaN</td>\n",
       "    </tr>\n",
       "    <tr>\n",
       "      <th>1</th>\n",
       "      <td>2017-01-02</td>\n",
       "      <td>2017-07-18</td>\n",
       "      <td>2017-12-17</td>\n",
       "      <td>0.539726</td>\n",
       "      <td>0.956164</td>\n",
       "      <td>843952.256261</td>\n",
       "      <td>0.334027</td>\n",
       "      <td>0.285752</td>\n",
       "      <td>0.07204</td>\n",
       "      <td>0.16</td>\n",
       "      <td>NaN</td>\n",
       "      <td>NaN</td>\n",
       "    </tr>\n",
       "    <tr>\n",
       "      <th>2</th>\n",
       "      <td>2017-01-03</td>\n",
       "      <td>2017-07-18</td>\n",
       "      <td>2017-12-17</td>\n",
       "      <td>0.536986</td>\n",
       "      <td>0.953425</td>\n",
       "      <td>846107.552063</td>\n",
       "      <td>0.327560</td>\n",
       "      <td>0.279651</td>\n",
       "      <td>0.07204</td>\n",
       "      <td>0.16</td>\n",
       "      <td>NaN</td>\n",
       "      <td>NaN</td>\n",
       "    </tr>\n",
       "    <tr>\n",
       "      <th>3</th>\n",
       "      <td>2017-01-04</td>\n",
       "      <td>2017-07-18</td>\n",
       "      <td>2017-12-17</td>\n",
       "      <td>0.534247</td>\n",
       "      <td>0.950685</td>\n",
       "      <td>867484.574900</td>\n",
       "      <td>0.334248</td>\n",
       "      <td>0.285960</td>\n",
       "      <td>0.07129</td>\n",
       "      <td>0.16</td>\n",
       "      <td>NaN</td>\n",
       "      <td>NaN</td>\n",
       "    </tr>\n",
       "    <tr>\n",
       "      <th>4</th>\n",
       "      <td>2017-01-05</td>\n",
       "      <td>2017-07-18</td>\n",
       "      <td>2017-12-17</td>\n",
       "      <td>0.531507</td>\n",
       "      <td>0.947945</td>\n",
       "      <td>874782.510283</td>\n",
       "      <td>0.340986</td>\n",
       "      <td>0.292317</td>\n",
       "      <td>0.07124</td>\n",
       "      <td>0.16</td>\n",
       "      <td>NaN</td>\n",
       "      <td>NaN</td>\n",
       "    </tr>\n",
       "  </tbody>\n",
       "</table>\n",
       "</div>"
      ],
      "text/plain": [
       "        date close_date_6m close_date_1y   time_6m   time_1y     coffee_cop  \\\n",
       "0 2017-01-01    2017-07-18    2017-12-17  0.542466  0.958904  843952.256261   \n",
       "1 2017-01-02    2017-07-18    2017-12-17  0.539726  0.956164  843952.256261   \n",
       "2 2017-01-03    2017-07-18    2017-12-17  0.536986  0.953425  846107.552063   \n",
       "3 2017-01-04    2017-07-18    2017-12-17  0.534247  0.950685  867484.574900   \n",
       "4 2017-01-05    2017-07-18    2017-12-17  0.531507  0.947945  874782.510283   \n",
       "\n",
       "   implied_vol_6m  implied_vol_1y        r  default_rate  buy_call_6m  \\\n",
       "0        0.334027        0.285752  0.07204          0.16          NaN   \n",
       "1        0.334027        0.285752  0.07204          0.16          NaN   \n",
       "2        0.327560        0.279651  0.07204          0.16          NaN   \n",
       "3        0.334248        0.285960  0.07129          0.16          NaN   \n",
       "4        0.340986        0.292317  0.07124          0.16          NaN   \n",
       "\n",
       "   buy_call_1y  \n",
       "0          NaN  \n",
       "1          NaN  \n",
       "2          NaN  \n",
       "3          NaN  \n",
       "4          NaN  "
      ]
     },
     "execution_count": 12,
     "metadata": {},
     "output_type": "execute_result"
    }
   ],
   "source": [
    "#import data\n",
    "df = pd.read_excel(\"bd_coffee.xlsx\")\n",
    "df.head()"
   ]
  },
  {
   "cell_type": "markdown",
   "id": "consolidated-strap",
   "metadata": {},
   "source": [
    "## Series Fitting"
   ]
  },
  {
   "cell_type": "code",
   "execution_count": 13,
   "id": "norwegian-surfing",
   "metadata": {},
   "outputs": [
    {
     "data": {
      "text/plain": [
       "0       8.439523e+05\n",
       "1       8.439523e+05\n",
       "2       8.461076e+05\n",
       "3       8.674846e+05\n",
       "4       8.747825e+05\n",
       "            ...     \n",
       "1821    1.861471e+06\n",
       "1822    1.847391e+06\n",
       "1823    1.881263e+06\n",
       "1824    1.889271e+06\n",
       "1825    1.846430e+06\n",
       "Name: coffee_cop, Length: 1826, dtype: float64"
      ]
     },
     "execution_count": 13,
     "metadata": {},
     "output_type": "execute_result"
    }
   ],
   "source": [
    "coffee_hist = df[\"coffee_cop\"].dropna()\n",
    "coffee_hist"
   ]
  },
  {
   "cell_type": "code",
   "execution_count": 14,
   "id": "fifth-letters",
   "metadata": {},
   "outputs": [
    {
     "data": {
      "text/plain": [
       "0       0.07204\n",
       "1       0.07204\n",
       "2       0.07204\n",
       "3       0.07129\n",
       "4       0.07124\n",
       "         ...   \n",
       "1821    0.03398\n",
       "1822    0.03440\n",
       "1823    0.03467\n",
       "1824    0.03511\n",
       "1825    0.03511\n",
       "Name: r, Length: 1826, dtype: float64"
      ]
     },
     "execution_count": 14,
     "metadata": {},
     "output_type": "execute_result"
    }
   ],
   "source": [
    "r = df[\"r\"].dropna()\n",
    "r"
   ]
  },
  {
   "cell_type": "code",
   "execution_count": 15,
   "id": "synthetic-commercial",
   "metadata": {},
   "outputs": [
    {
     "data": {
      "text/plain": [
       "0       0.334027\n",
       "1       0.334027\n",
       "2       0.327560\n",
       "3       0.334248\n",
       "4       0.340986\n",
       "          ...   \n",
       "1821    0.412114\n",
       "1822    0.402495\n",
       "1823    0.409220\n",
       "1824    0.414452\n",
       "1825    0.413820\n",
       "Name: implied_vol_6m, Length: 1826, dtype: float64"
      ]
     },
     "execution_count": 15,
     "metadata": {},
     "output_type": "execute_result"
    }
   ],
   "source": [
    "vol_6m = df[\"implied_vol_6m\"].dropna()\n",
    "vol_6m"
   ]
  },
  {
   "cell_type": "markdown",
   "id": "married-sponsorship",
   "metadata": {},
   "source": [
    "### Coffee"
   ]
  },
  {
   "cell_type": "code",
   "execution_count": 16,
   "id": "likely-course",
   "metadata": {},
   "outputs": [
    {
     "name": "stdout",
     "output_type": "stream",
     "text": [
      "Wall time: 0 ns\n"
     ]
    }
   ],
   "source": [
    "%%time\n",
    "#from fitter import Fitter\n",
    "#f1 = Fitter(coffee_hist)\n",
    "#f1.fit()\n",
    "# may take some time since by default, all distributions are tried\n",
    "# but you call manually provide a smaller set of distributions\n",
    "#f1.summary()"
   ]
  },
  {
   "cell_type": "markdown",
   "id": "greater-james",
   "metadata": {},
   "source": [
    "### Interest rate"
   ]
  },
  {
   "cell_type": "code",
   "execution_count": 17,
   "id": "engaged-watson",
   "metadata": {},
   "outputs": [
    {
     "name": "stdout",
     "output_type": "stream",
     "text": [
      "Wall time: 0 ns\n"
     ]
    }
   ],
   "source": [
    "%%time\n",
    "#from fitter import Fitter\n",
    "#f2 = Fitter(r)\n",
    "#f2.fit()\n",
    "# may take some time since by default, all distributions are tried\n",
    "# but you call manually provide a smaller set of distributions\n",
    "#f2.summary()"
   ]
  },
  {
   "cell_type": "markdown",
   "id": "front-monthly",
   "metadata": {},
   "source": [
    "### Implied Volatility"
   ]
  },
  {
   "cell_type": "code",
   "execution_count": 18,
   "id": "lyric-franchise",
   "metadata": {},
   "outputs": [
    {
     "name": "stdout",
     "output_type": "stream",
     "text": [
      "Wall time: 0 ns\n"
     ]
    }
   ],
   "source": [
    "%%time\n",
    "#from fitter import Fitter\n",
    "#f3 = Fitter(vol_6m)\n",
    "#f3.fit()\n",
    "# may take some time since by default, all distributions are tried\n",
    "# but you call manually provide a smaller set of distributions\n",
    "#f3.summary()"
   ]
  },
  {
   "cell_type": "code",
   "execution_count": 19,
   "id": "searching-aircraft",
   "metadata": {},
   "outputs": [
    {
     "name": "stdout",
     "output_type": "stream",
     "text": [
      "Wall time: 0 ns\n"
     ]
    }
   ],
   "source": [
    "%%time\n",
    "#from fitter import Fitter\n",
    "#f4 = Fitter(vol_1y)\n",
    "#f4.fit()\n",
    "# may take some time since by default, all distributions are tried\n",
    "# but you call manually provide a smaller set of distributions\n",
    "#f4.summary()"
   ]
  },
  {
   "cell_type": "markdown",
   "id": "sorted-coaching",
   "metadata": {},
   "source": [
    "## Series Simulation Sample"
   ]
  },
  {
   "cell_type": "code",
   "execution_count": 20,
   "id": "terminal-slave",
   "metadata": {},
   "outputs": [],
   "source": [
    "#calculate returns\n",
    "df_hist = df.dropna().set_index(\"date\")\n",
    "df_hist[\"coffee_pct\"] = df_hist[\"coffee_cop\"].pct_change()"
   ]
  },
  {
   "cell_type": "markdown",
   "id": "potential-standing",
   "metadata": {},
   "source": [
    "### Coffee"
   ]
  },
  {
   "cell_type": "code",
   "execution_count": 21,
   "id": "functioning-bowling",
   "metadata": {},
   "outputs": [],
   "source": [
    "import math\n",
    "# Parameter Definitions\n",
    "\n",
    "# So    :   initial stock price\n",
    "# dt    :   time increment -> a day in our case\n",
    "# T     :   length of the prediction time horizon(how many time points to predict, same unit with dt(days))\n",
    "# N     :   number of time points in the prediction time horizon -> T/dt\n",
    "# t     :   array for time points in the prediction time horizon [1, 2, 3, .. , N]\n",
    "# mu    :   mean of historical daily returns\n",
    "# sigma :   standard deviation of historical daily returns\n",
    "# b     :   array for brownian increments\n",
    "# W     :   array for brownian path\n",
    "\n",
    "s0 = df.at[0, \"coffee_cop\"]\n",
    "sigma = df_hist[\"coffee_pct\"].std() * sqrt(252)\n",
    "mu = df_hist[\"coffee_pct\"].mean()\n",
    "dt = 1/365\n",
    "\n",
    "def gbm(s0, sigma, mu, dt, n):\n",
    "    time = 0\n",
    "    gbmPrice = S0\n",
    "\n",
    "    drift = mu\n",
    "    price_sim = []\n",
    "    for i in range(n):\n",
    "        time = time + dt\n",
    "        drift = mu * dt * gbmPrice\n",
    "        uncertainity = np.random.normal(0) * math.sqrt(dt) * sigma *gbmPrice\n",
    "        change = drift + uncertainity\n",
    "        gbmPrice = gbmPrice + change\n",
    "        price_sim.append(gbmPrice)\n",
    "    return(price_sim)\n"
   ]
  },
  {
   "cell_type": "code",
   "execution_count": 22,
   "id": "french-gospel",
   "metadata": {},
   "outputs": [],
   "source": [
    "price_simulation = gbm(s0, sigma, mu, dt, len(df))"
   ]
  },
  {
   "cell_type": "code",
   "execution_count": 23,
   "id": "selective-sheep",
   "metadata": {},
   "outputs": [
    {
     "data": {
      "text/plain": [
       "[<matplotlib.lines.Line2D at 0x1f501203940>]"
      ]
     },
     "execution_count": 23,
     "metadata": {},
     "output_type": "execute_result"
    },
    {
     "data": {
      "image/png": "[encoded data removed]",
      "text/plain": [
       "<Figure size 432x288 with 1 Axes>"
      ]
     },
     "metadata": {
      "needs_background": "light"
     },
     "output_type": "display_data"
    }
   ],
   "source": [
    "plt.plot(np.array(price_simulation))\n",
    "plt.plot(df[\"coffee_cop\"])"
   ]
  },
  {
   "cell_type": "markdown",
   "id": "every-bishop",
   "metadata": {},
   "source": [
    "### Interest Rate"
   ]
  },
  {
   "cell_type": "markdown",
   "id": "pediatric-calvin",
   "metadata": {},
   "source": [
    "Interest Rate Simulation sample: https://sarit-maitra.medium.com/pca-monte-carlo-simulation-for-vasicek-interest-rate-model-9522858cc89d"
   ]
  },
  {
   "cell_type": "markdown",
   "id": "liable-roller",
   "metadata": {},
   "source": [
    "### Implied Volatility"
   ]
  },
  {
   "cell_type": "code",
   "execution_count": null,
   "id": "distinguished-flight",
   "metadata": {},
   "outputs": [],
   "source": []
  },
  {
   "cell_type": "markdown",
   "id": "cultural-honey",
   "metadata": {},
   "source": [
    "### Default Rate"
   ]
  },
  {
   "cell_type": "code",
   "execution_count": null,
   "id": "stupid-bangkok",
   "metadata": {},
   "outputs": [],
   "source": []
  },
  {
   "cell_type": "markdown",
   "id": "modern-madagascar",
   "metadata": {},
   "source": [
    "# Monte Carlo Simulation"
   ]
  },
  {
   "cell_type": "code",
   "execution_count": 40,
   "id": "dense-original",
   "metadata": {},
   "outputs": [],
   "source": [
    "#define Black Model 76\n",
    "def call_b76(S,K,T,r,sigma):\n",
    "    lns0k = log(S/K)\n",
    "    sig = ((sigma**2)/2.0)*T \n",
    "    srt = sigma*sqrt(T)\n",
    "    d1 = (lns0k + sig) / srt\n",
    "    d2 = d1 - srt\n",
    "    Nd1 = norm.cdf(d1)\n",
    "    Nd2 = norm.cdf(d2)\n",
    "    ert = exp(-T*r)\n",
    "    price = (S*Nd1) - (ert*(K*Nd2))\n",
    "    return(price)"
   ]
  },
  {
   "cell_type": "code",
   "execution_count": 29,
   "id": "correct-trader",
   "metadata": {},
   "outputs": [
    {
     "data": {
      "text/html": [
       "<div>\n",
       "<style scoped>\n",
       "    .dataframe tbody tr th:only-of-type {\n",
       "        vertical-align: middle;\n",
       "    }\n",
       "\n",
       "    .dataframe tbody tr th {\n",
       "        vertical-align: top;\n",
       "    }\n",
       "\n",
       "    .dataframe thead th {\n",
       "        text-align: right;\n",
       "    }\n",
       "</style>\n",
       "<table border=\"1\" class=\"dataframe\">\n",
       "  <thead>\n",
       "    <tr style=\"text-align: right;\">\n",
       "      <th></th>\n",
       "      <th>date</th>\n",
       "      <th>close_date_6m</th>\n",
       "      <th>close_date_1y</th>\n",
       "      <th>time_6m</th>\n",
       "      <th>time_1y</th>\n",
       "      <th>coffee_cop</th>\n",
       "      <th>implied_vol_6m</th>\n",
       "      <th>implied_vol_1y</th>\n",
       "      <th>r</th>\n",
       "      <th>default_rate</th>\n",
       "      <th>buy_call_6m</th>\n",
       "      <th>buy_call_1y</th>\n",
       "    </tr>\n",
       "  </thead>\n",
       "  <tbody>\n",
       "    <tr>\n",
       "      <th>0</th>\n",
       "      <td>2017-01-01</td>\n",
       "      <td>2017-07-18</td>\n",
       "      <td>2017-12-17</td>\n",
       "      <td>0.542466</td>\n",
       "      <td>0.958904</td>\n",
       "      <td>843952.256261</td>\n",
       "      <td>0.334027</td>\n",
       "      <td>0.285752</td>\n",
       "      <td>0.07204</td>\n",
       "      <td>0.16</td>\n",
       "      <td>NaN</td>\n",
       "      <td>NaN</td>\n",
       "    </tr>\n",
       "    <tr>\n",
       "      <th>1</th>\n",
       "      <td>2017-01-02</td>\n",
       "      <td>2017-07-18</td>\n",
       "      <td>2017-12-17</td>\n",
       "      <td>0.539726</td>\n",
       "      <td>0.956164</td>\n",
       "      <td>843952.256261</td>\n",
       "      <td>0.334027</td>\n",
       "      <td>0.285752</td>\n",
       "      <td>0.07204</td>\n",
       "      <td>0.16</td>\n",
       "      <td>NaN</td>\n",
       "      <td>NaN</td>\n",
       "    </tr>\n",
       "    <tr>\n",
       "      <th>2</th>\n",
       "      <td>2017-01-03</td>\n",
       "      <td>2017-07-18</td>\n",
       "      <td>2017-12-17</td>\n",
       "      <td>0.536986</td>\n",
       "      <td>0.953425</td>\n",
       "      <td>846107.552063</td>\n",
       "      <td>0.327560</td>\n",
       "      <td>0.279651</td>\n",
       "      <td>0.07204</td>\n",
       "      <td>0.16</td>\n",
       "      <td>NaN</td>\n",
       "      <td>NaN</td>\n",
       "    </tr>\n",
       "    <tr>\n",
       "      <th>3</th>\n",
       "      <td>2017-01-04</td>\n",
       "      <td>2017-07-18</td>\n",
       "      <td>2017-12-17</td>\n",
       "      <td>0.534247</td>\n",
       "      <td>0.950685</td>\n",
       "      <td>867484.574900</td>\n",
       "      <td>0.334248</td>\n",
       "      <td>0.285960</td>\n",
       "      <td>0.07129</td>\n",
       "      <td>0.16</td>\n",
       "      <td>NaN</td>\n",
       "      <td>NaN</td>\n",
       "    </tr>\n",
       "    <tr>\n",
       "      <th>4</th>\n",
       "      <td>2017-01-05</td>\n",
       "      <td>2017-07-18</td>\n",
       "      <td>2017-12-17</td>\n",
       "      <td>0.531507</td>\n",
       "      <td>0.947945</td>\n",
       "      <td>874782.510283</td>\n",
       "      <td>0.340986</td>\n",
       "      <td>0.292317</td>\n",
       "      <td>0.07124</td>\n",
       "      <td>0.16</td>\n",
       "      <td>NaN</td>\n",
       "      <td>NaN</td>\n",
       "    </tr>\n",
       "  </tbody>\n",
       "</table>\n",
       "</div>"
      ],
      "text/plain": [
       "        date close_date_6m close_date_1y   time_6m   time_1y     coffee_cop  \\\n",
       "0 2017-01-01    2017-07-18    2017-12-17  0.542466  0.958904  843952.256261   \n",
       "1 2017-01-02    2017-07-18    2017-12-17  0.539726  0.956164  843952.256261   \n",
       "2 2017-01-03    2017-07-18    2017-12-17  0.536986  0.953425  846107.552063   \n",
       "3 2017-01-04    2017-07-18    2017-12-17  0.534247  0.950685  867484.574900   \n",
       "4 2017-01-05    2017-07-18    2017-12-17  0.531507  0.947945  874782.510283   \n",
       "\n",
       "   implied_vol_6m  implied_vol_1y        r  default_rate  buy_call_6m  \\\n",
       "0        0.334027        0.285752  0.07204          0.16          NaN   \n",
       "1        0.334027        0.285752  0.07204          0.16          NaN   \n",
       "2        0.327560        0.279651  0.07204          0.16          NaN   \n",
       "3        0.334248        0.285960  0.07129          0.16          NaN   \n",
       "4        0.340986        0.292317  0.07124          0.16          NaN   \n",
       "\n",
       "   buy_call_1y  \n",
       "0          NaN  \n",
       "1          NaN  \n",
       "2          NaN  \n",
       "3          NaN  \n",
       "4          NaN  "
      ]
     },
     "execution_count": 29,
     "metadata": {},
     "output_type": "execute_result"
    }
   ],
   "source": [
    "df.head()"
   ]
  },
  {
   "cell_type": "code",
   "execution_count": 46,
   "id": "continuing-permit",
   "metadata": {},
   "outputs": [],
   "source": [
    "r_array = df[\"r\"].fillna(method = \"ffill\")\n",
    "sigma6_array = df[\"implied_vol_6m\"].fillna(method = \"ffill\")\n",
    "default_rate_array = df[\"default_rate\"].fillna(method = \"ffill\")"
   ]
  },
  {
   "cell_type": "code",
   "execution_count": 55,
   "id": "described-coast",
   "metadata": {},
   "outputs": [
    {
     "data": {
      "text/plain": [
       "[<matplotlib.lines.Line2D at 0x1f5016d4ac0>]"
      ]
     },
     "execution_count": 55,
     "metadata": {},
     "output_type": "execute_result"
    },
    {
     "data": {
      "image/png": "[encoded data removed]",
      "text/plain": [
       "<Figure size 432x288 with 1 Axes>"
      ]
     },
     "metadata": {
      "needs_background": "light"
     },
     "output_type": "display_data"
    }
   ],
   "source": [
    "premium_factor = 0.39\n",
    "vol_factor = 1/0.45 * 93.03 #AJUSTAR ESTO\n",
    "\n",
    "T_6 = df[\"time_6m\"]\n",
    "T_1 = df[\"time_1y\"]\n",
    "buys_6m_call = df[\"buy_call_6m\"].fillna(0)\n",
    "buys_1y_call = df[\"buy_call_1y\"].fillna(0)\n",
    "\n",
    "\n",
    "\n",
    "\n",
    "coffee_price_sim = gbm(s0, sigma, mu, dt, len(df))\n",
    "#simulate interest rate\n",
    "r_sim = r_array\n",
    "#simulate  implied volatility via gbm\n",
    "sigma6_sim = sigma6_array\n",
    "#simulate default rate with random number \n",
    "default_rate_sim = default_rate_array\n",
    "#calculate black scholes for every day\n",
    "option_prices = []\n",
    "premia_prices = []\n",
    "\n",
    "for j in range(len(coffee_price_sim)):\n",
    "        S = coffee_price_sim[j]\n",
    "        K = S\n",
    "        T = T_6[j]\n",
    "        r = r_sim[j]\n",
    "        sigma = sigma6_sim[j]\n",
    "        option_price = call_b76(S, K, T, r, sigma)\n",
    "        option_prices.append(option_price)\n",
    "        premium_price = option_price * premium_factor\n",
    "        premia_prices.append(premium_price)\n",
    "\n",
    "premia = np.array(premia_prices) * np.array(buys_6m_call)\n"
   ]
  },
  {
   "cell_type": "code",
   "execution_count": 54,
   "id": "aquatic-monte",
   "metadata": {},
   "outputs": [
    {
     "data": {
      "text/html": [
       "<div>\n",
       "<style scoped>\n",
       "    .dataframe tbody tr th:only-of-type {\n",
       "        vertical-align: middle;\n",
       "    }\n",
       "\n",
       "    .dataframe tbody tr th {\n",
       "        vertical-align: top;\n",
       "    }\n",
       "\n",
       "    .dataframe thead th {\n",
       "        text-align: right;\n",
       "    }\n",
       "</style>\n",
       "<table border=\"1\" class=\"dataframe\">\n",
       "  <thead>\n",
       "    <tr style=\"text-align: right;\">\n",
       "      <th></th>\n",
       "      <th>date</th>\n",
       "      <th>close_date_6m</th>\n",
       "      <th>close_date_1y</th>\n",
       "      <th>time_6m</th>\n",
       "      <th>time_1y</th>\n",
       "      <th>coffee_cop</th>\n",
       "      <th>implied_vol_6m</th>\n",
       "      <th>implied_vol_1y</th>\n",
       "      <th>r</th>\n",
       "      <th>default_rate</th>\n",
       "      <th>buy_call_6m</th>\n",
       "      <th>buy_call_1y</th>\n",
       "    </tr>\n",
       "  </thead>\n",
       "  <tbody>\n",
       "    <tr>\n",
       "      <th>0</th>\n",
       "      <td>2017-01-01</td>\n",
       "      <td>2017-07-18</td>\n",
       "      <td>2017-12-17</td>\n",
       "      <td>0.542466</td>\n",
       "      <td>0.958904</td>\n",
       "      <td>843952.256261</td>\n",
       "      <td>0.334027</td>\n",
       "      <td>0.285752</td>\n",
       "      <td>0.07204</td>\n",
       "      <td>0.16</td>\n",
       "      <td>NaN</td>\n",
       "      <td>NaN</td>\n",
       "    </tr>\n",
       "    <tr>\n",
       "      <th>1</th>\n",
       "      <td>2017-01-02</td>\n",
       "      <td>2017-07-18</td>\n",
       "      <td>2017-12-17</td>\n",
       "      <td>0.539726</td>\n",
       "      <td>0.956164</td>\n",
       "      <td>843952.256261</td>\n",
       "      <td>0.334027</td>\n",
       "      <td>0.285752</td>\n",
       "      <td>0.07204</td>\n",
       "      <td>0.16</td>\n",
       "      <td>NaN</td>\n",
       "      <td>NaN</td>\n",
       "    </tr>\n",
       "    <tr>\n",
       "      <th>2</th>\n",
       "      <td>2017-01-03</td>\n",
       "      <td>2017-07-18</td>\n",
       "      <td>2017-12-17</td>\n",
       "      <td>0.536986</td>\n",
       "      <td>0.953425</td>\n",
       "      <td>846107.552063</td>\n",
       "      <td>0.327560</td>\n",
       "      <td>0.279651</td>\n",
       "      <td>0.07204</td>\n",
       "      <td>0.16</td>\n",
       "      <td>NaN</td>\n",
       "      <td>NaN</td>\n",
       "    </tr>\n",
       "    <tr>\n",
       "      <th>3</th>\n",
       "      <td>2017-01-04</td>\n",
       "      <td>2017-07-18</td>\n",
       "      <td>2017-12-17</td>\n",
       "      <td>0.534247</td>\n",
       "      <td>0.950685</td>\n",
       "      <td>867484.574900</td>\n",
       "      <td>0.334248</td>\n",
       "      <td>0.285960</td>\n",
       "      <td>0.07129</td>\n",
       "      <td>0.16</td>\n",
       "      <td>NaN</td>\n",
       "      <td>NaN</td>\n",
       "    </tr>\n",
       "    <tr>\n",
       "      <th>4</th>\n",
       "      <td>2017-01-05</td>\n",
       "      <td>2017-07-18</td>\n",
       "      <td>2017-12-17</td>\n",
       "      <td>0.531507</td>\n",
       "      <td>0.947945</td>\n",
       "      <td>874782.510283</td>\n",
       "      <td>0.340986</td>\n",
       "      <td>0.292317</td>\n",
       "      <td>0.07124</td>\n",
       "      <td>0.16</td>\n",
       "      <td>NaN</td>\n",
       "      <td>NaN</td>\n",
       "    </tr>\n",
       "    <tr>\n",
       "      <th>...</th>\n",
       "      <td>...</td>\n",
       "      <td>...</td>\n",
       "      <td>...</td>\n",
       "      <td>...</td>\n",
       "      <td>...</td>\n",
       "      <td>...</td>\n",
       "      <td>...</td>\n",
       "      <td>...</td>\n",
       "      <td>...</td>\n",
       "      <td>...</td>\n",
       "      <td>...</td>\n",
       "      <td>...</td>\n",
       "    </tr>\n",
       "    <tr>\n",
       "      <th>2186</th>\n",
       "      <td>2022-12-27</td>\n",
       "      <td>NaT</td>\n",
       "      <td>NaT</td>\n",
       "      <td>NaN</td>\n",
       "      <td>NaN</td>\n",
       "      <td>NaN</td>\n",
       "      <td>NaN</td>\n",
       "      <td>NaN</td>\n",
       "      <td>0.03511</td>\n",
       "      <td>NaN</td>\n",
       "      <td>NaN</td>\n",
       "      <td>NaN</td>\n",
       "    </tr>\n",
       "    <tr>\n",
       "      <th>2187</th>\n",
       "      <td>2022-12-28</td>\n",
       "      <td>NaT</td>\n",
       "      <td>NaT</td>\n",
       "      <td>NaN</td>\n",
       "      <td>NaN</td>\n",
       "      <td>NaN</td>\n",
       "      <td>NaN</td>\n",
       "      <td>NaN</td>\n",
       "      <td>0.03511</td>\n",
       "      <td>NaN</td>\n",
       "      <td>NaN</td>\n",
       "      <td>NaN</td>\n",
       "    </tr>\n",
       "    <tr>\n",
       "      <th>2188</th>\n",
       "      <td>2022-12-29</td>\n",
       "      <td>NaT</td>\n",
       "      <td>NaT</td>\n",
       "      <td>NaN</td>\n",
       "      <td>NaN</td>\n",
       "      <td>NaN</td>\n",
       "      <td>NaN</td>\n",
       "      <td>NaN</td>\n",
       "      <td>0.03511</td>\n",
       "      <td>NaN</td>\n",
       "      <td>NaN</td>\n",
       "      <td>NaN</td>\n",
       "    </tr>\n",
       "    <tr>\n",
       "      <th>2189</th>\n",
       "      <td>2022-12-30</td>\n",
       "      <td>NaT</td>\n",
       "      <td>NaT</td>\n",
       "      <td>NaN</td>\n",
       "      <td>NaN</td>\n",
       "      <td>NaN</td>\n",
       "      <td>NaN</td>\n",
       "      <td>NaN</td>\n",
       "      <td>0.03511</td>\n",
       "      <td>NaN</td>\n",
       "      <td>NaN</td>\n",
       "      <td>NaN</td>\n",
       "    </tr>\n",
       "    <tr>\n",
       "      <th>2190</th>\n",
       "      <td>2022-12-31</td>\n",
       "      <td>NaT</td>\n",
       "      <td>NaT</td>\n",
       "      <td>NaN</td>\n",
       "      <td>NaN</td>\n",
       "      <td>NaN</td>\n",
       "      <td>NaN</td>\n",
       "      <td>NaN</td>\n",
       "      <td>0.03511</td>\n",
       "      <td>NaN</td>\n",
       "      <td>NaN</td>\n",
       "      <td>NaN</td>\n",
       "    </tr>\n",
       "  </tbody>\n",
       "</table>\n",
       "<p>2191 rows × 12 columns</p>\n",
       "</div>"
      ],
      "text/plain": [
       "           date close_date_6m close_date_1y   time_6m   time_1y  \\\n",
       "0    2017-01-01    2017-07-18    2017-12-17  0.542466  0.958904   \n",
       "1    2017-01-02    2017-07-18    2017-12-17  0.539726  0.956164   \n",
       "2    2017-01-03    2017-07-18    2017-12-17  0.536986  0.953425   \n",
       "3    2017-01-04    2017-07-18    2017-12-17  0.534247  0.950685   \n",
       "4    2017-01-05    2017-07-18    2017-12-17  0.531507  0.947945   \n",
       "...         ...           ...           ...       ...       ...   \n",
       "2186 2022-12-27           NaT           NaT       NaN       NaN   \n",
       "2187 2022-12-28           NaT           NaT       NaN       NaN   \n",
       "2188 2022-12-29           NaT           NaT       NaN       NaN   \n",
       "2189 2022-12-30           NaT           NaT       NaN       NaN   \n",
       "2190 2022-12-31           NaT           NaT       NaN       NaN   \n",
       "\n",
       "         coffee_cop  implied_vol_6m  implied_vol_1y        r  default_rate  \\\n",
       "0     843952.256261        0.334027        0.285752  0.07204          0.16   \n",
       "1     843952.256261        0.334027        0.285752  0.07204          0.16   \n",
       "2     846107.552063        0.327560        0.279651  0.07204          0.16   \n",
       "3     867484.574900        0.334248        0.285960  0.07129          0.16   \n",
       "4     874782.510283        0.340986        0.292317  0.07124          0.16   \n",
       "...             ...             ...             ...      ...           ...   \n",
       "2186            NaN             NaN             NaN  0.03511           NaN   \n",
       "2187            NaN             NaN             NaN  0.03511           NaN   \n",
       "2188            NaN             NaN             NaN  0.03511           NaN   \n",
       "2189            NaN             NaN             NaN  0.03511           NaN   \n",
       "2190            NaN             NaN             NaN  0.03511           NaN   \n",
       "\n",
       "      buy_call_6m  buy_call_1y  \n",
       "0             NaN          NaN  \n",
       "1             NaN          NaN  \n",
       "2             NaN          NaN  \n",
       "3             NaN          NaN  \n",
       "4             NaN          NaN  \n",
       "...           ...          ...  \n",
       "2186          NaN          NaN  \n",
       "2187          NaN          NaN  \n",
       "2188          NaN          NaN  \n",
       "2189          NaN          NaN  \n",
       "2190          NaN          NaN  \n",
       "\n",
       "[2191 rows x 12 columns]"
      ]
     },
     "execution_count": 54,
     "metadata": {},
     "output_type": "execute_result"
    }
   ],
   "source": [
    "df[\"buy_call_6m\"].fillna(0)"
   ]
  },
  {
   "cell_type": "code",
   "execution_count": null,
   "id": "vocational-assembly",
   "metadata": {},
   "outputs": [],
   "source": [
    "n = 1000\n",
    "df_stoch_fs = pd.DataFrame()\n",
    "\n",
    "T_6 = df[\"time_6m\"]\n",
    "T_1 = df[\"time_1y\"]\n",
    "buys_6m_call = df[\"buy_call_6m\"].fillna(0)\n",
    "buys_1y_call = df[\"buy_call_1y\"].fillna(0)\n",
    "\n",
    "for i in range(n):\n",
    "    #Simulate price via gbm\n",
    "    coffee_price_sim = gbm(s0, sigma, mu, dt, len(df))\n",
    "    #simulate interest rate\n",
    "    r_sim = r\n",
    "    #simulate  implied volatility via gbm\n",
    "    sigma6_sim = sigma6\n",
    "    #simulate default rate with random number \n",
    "    default_rate_sim = np.random.normal()\n",
    "    #calculate black scholes for every day\n",
    "    for j in range(len_coffee_price_sim):\n",
    "        S = coffee_price_sim[j]\n",
    "        K = S\n",
    "        T = T_6[j]\n",
    "        r = r_sim[j]\n",
    "        sigma = sigma6_sim[j]\n",
    "        option_price = call_b76(S, K, T, r)\n",
    "    #calculate premium for every day\n",
    "    \n",
    "    #calculate defalut for day (look for price at expiry)\n",
    "    \n",
    "    #sum financial statement lines by year\n",
    "    #append results of financial statement lines to df_stoch_fs\n"
   ]
  }
 ],
 "metadata": {
  "kernelspec": {
   "display_name": "Python 3",
   "language": "python",
   "name": "python3"
  },
  "language_info": {
   "codemirror_mode": {
    "name": "ipython",
    "version": 3
   },
   "file_extension": ".py",
   "mimetype": "text/x-python",
   "name": "python",
   "nbconvert_exporter": "python",
   "pygments_lexer": "ipython3",
   "version": "3.8.5"
  }
 },
 "nbformat": 4,
 "nbformat_minor": 5
}
